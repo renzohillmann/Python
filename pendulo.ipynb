{
 "cells": [
  {
   "cell_type": "code",
   "execution_count": 1,
   "id": "f3602af6",
   "metadata": {},
   "outputs": [],
   "source": [
    "import pandas as pd\n",
    "import matplotlib.pyplot as plt\n",
    "import scipy.optimize as opt\n",
    "import numpy as np"
   ]
  },
  {
   "cell_type": "code",
   "execution_count": 2,
   "id": "bae9a2eb",
   "metadata": {},
   "outputs": [],
   "source": [
    "def parabola(x, a, b, c):\n",
    "    return a * x**2 + b * x + c\n",
    "\n",
    "def linear(x, m, b):\n",
    "    return m * x + b\n",
    "\n",
    "def gsin(theta, g):\n",
    "    return g*np.sin(np.radians(theta))\n",
    "\n",
    "def hiperbola_mass (m, m2, F):\n",
    "    a = F/(m2+m)\n",
    "    return a\n",
    "\n",
    "def hiperbola(x, a, b, c):\n",
    "    return a/(b+x)+c*x\n",
    "\n",
    "def periodo(l, g):\n",
    "    return 2*np.pi*np.sqrt(l/g)\n",
    "\n",
    "def periodo_square(l, g):\n",
    "    return (2*np.pi)**2 * l / g"
   ]
  },
  {
   "cell_type": "code",
   "execution_count": 3,
   "id": "dd1569b4",
   "metadata": {},
   "outputs": [],
   "source": [
    "# define function to clean up data \n",
    "\n",
    "# Clean data by removing NaN and Inf values\n",
    "def clean_data(x, y):\n",
    "    # Convert to numpy arrays if they're not already\n",
    "    x_np = np.array(x)\n",
    "    y_np = np.array(y)\n",
    "    \n",
    "    # Create mask for valid values (not NaN or Inf)\n",
    "    mask = ~np.isnan(x_np) & ~np.isnan(y_np) & ~np.isinf(x_np) & ~np.isinf(y_np)\n",
    "    \n",
    "    # Apply mask\n",
    "    return x_np[mask], y_np[mask]"
   ]
  },
  {
   "cell_type": "code",
   "execution_count": 4,
   "id": "0bffd472",
   "metadata": {},
   "outputs": [],
   "source": [
    "def load_excel_to_df(data):\n",
    "    \"\"\"\n",
    "    Loads an Excel file named \"{data}.xlsx\" (without skiprows=1 for non-tracker excels) into a dataframe.\n",
    "    The dataframe is assigned to a global variable named df_{data}.\n",
    "    \n",
    "    Parameters:\n",
    "        data (str): The base name of the Excel file (without \".xlsx\").\n",
    "    \"\"\"\n",
    "    filename = f\"{data}.xlsx\"\n",
    "    try:\n",
    "        df = pd.read_excel(filename)\n",
    "    except FileNotFoundError:\n",
    "        print(f\"Error: {filename} not found.\")\n",
    "        exit()\n",
    "    globals()[f\"df_{data}\"] = df\n",
    "    return df"
   ]
  },
  {
   "cell_type": "markdown",
   "id": "91aaabe5",
   "metadata": {},
   "source": [
    "# 1) T vs M"
   ]
  },
  {
   "cell_type": "code",
   "execution_count": 21,
   "id": "ca88818c",
   "metadata": {},
   "outputs": [
    {
     "data": {
      "text/html": [
       "<div>\n",
       "<style scoped>\n",
       "    .dataframe tbody tr th:only-of-type {\n",
       "        vertical-align: middle;\n",
       "    }\n",
       "\n",
       "    .dataframe tbody tr th {\n",
       "        vertical-align: top;\n",
       "    }\n",
       "\n",
       "    .dataframe thead th {\n",
       "        text-align: right;\n",
       "    }\n",
       "</style>\n",
       "<table border=\"1\" class=\"dataframe\">\n",
       "  <thead>\n",
       "    <tr style=\"text-align: right;\">\n",
       "      <th></th>\n",
       "      <th>m</th>\n",
       "      <th>t</th>\n",
       "      <th>T</th>\n",
       "    </tr>\n",
       "  </thead>\n",
       "  <tbody>\n",
       "    <tr>\n",
       "      <th>0</th>\n",
       "      <td>14</td>\n",
       "      <td>19.83</td>\n",
       "      <td>1.983</td>\n",
       "    </tr>\n",
       "    <tr>\n",
       "      <th>1</th>\n",
       "      <td>20</td>\n",
       "      <td>19.52</td>\n",
       "      <td>1.952</td>\n",
       "    </tr>\n",
       "    <tr>\n",
       "      <th>2</th>\n",
       "      <td>26</td>\n",
       "      <td>19.84</td>\n",
       "      <td>1.984</td>\n",
       "    </tr>\n",
       "    <tr>\n",
       "      <th>3</th>\n",
       "      <td>32</td>\n",
       "      <td>19.63</td>\n",
       "      <td>1.963</td>\n",
       "    </tr>\n",
       "    <tr>\n",
       "      <th>4</th>\n",
       "      <td>38</td>\n",
       "      <td>19.69</td>\n",
       "      <td>1.969</td>\n",
       "    </tr>\n",
       "    <tr>\n",
       "      <th>5</th>\n",
       "      <td>44</td>\n",
       "      <td>19.77</td>\n",
       "      <td>1.977</td>\n",
       "    </tr>\n",
       "    <tr>\n",
       "      <th>6</th>\n",
       "      <td>50</td>\n",
       "      <td>19.60</td>\n",
       "      <td>1.960</td>\n",
       "    </tr>\n",
       "  </tbody>\n",
       "</table>\n",
       "</div>"
      ],
      "text/plain": [
       "    m      t      T\n",
       "0  14  19.83  1.983\n",
       "1  20  19.52  1.952\n",
       "2  26  19.84  1.984\n",
       "3  32  19.63  1.963\n",
       "4  38  19.69  1.969\n",
       "5  44  19.77  1.977\n",
       "6  50  19.60  1.960"
      ]
     },
     "execution_count": 21,
     "metadata": {},
     "output_type": "execute_result"
    }
   ],
   "source": [
    "df_TvsM = load_excel_to_df(\"T_vs_m\")\n",
    "df_TvsM"
   ]
  },
  {
   "cell_type": "code",
   "execution_count": 18,
   "id": "43d869e4",
   "metadata": {},
   "outputs": [
    {
     "name": "stdout",
     "output_type": "stream",
     "text": [
      "Average T: 1.97 s\n"
     ]
    }
   ],
   "source": [
    "m = df_TvsM['m'].to_numpy()\n",
    "T_m = df_TvsM['T'].to_numpy()\n",
    "T_avg = df_TvsM['T'].mean()\n",
    "print(f\"Average T: {T_avg:.2f} s\")"
   ]
  },
  {
   "cell_type": "code",
   "execution_count": 20,
   "id": "4ec73490",
   "metadata": {},
   "outputs": [
    {
     "data": {
      "image/png": "[encoded data removed]",
      "text/plain": [
       "<Figure size 600x400 with 1 Axes>"
      ]
     },
     "metadata": {},
     "output_type": "display_data"
    }
   ],
   "source": [
    "plt.rcParams[\"font.family\"] = \"serif\"\n",
    "plt.rcParams[\"mathtext.fontset\"] = \"dejavuserif\"\n",
    "#plt.rcParams[\"font.size\"] = 12\n",
    "# Add the new set of points to the existing plot\n",
    "plt.plot(m, T_m, marker='o', markersize=6 , linestyle='None', color='r')\n",
    "plt.hlines(T_avg, xmin=min(m), xmax=max(m), color='blue', linestyle='--', label='T promedio')\n",
    "\n",
    "\n",
    "\n",
    "# Add labels, title, legend (if needed)\n",
    "plt.xlabel(\"Masa (g)\")\n",
    "plt.ylabel(\"Periodo (s)\")\n",
    "# plt.legend()  # Show the legend\n",
    "\n",
    "plt.ylim(0,5)\n",
    "# xticks_positions = [0.5, 1.0, 1.5, 2.0]\n",
    "# xticks_labels = ['0.5', '1.0', '1.5', '2.0']\n",
    "\n",
    "# yticks_positions = [0.25, 0.5, 0.75, 1.0, 1.25, 1.5]\n",
    "# yticks_labels = ['0.25', '0.5', '0.75', '1.0', '1.25', '1.5']\n",
    "\n",
    "# plt.xticks(xticks_positions, xticks_labels)\n",
    "# plt.yticks(yticks_positions, yticks_labels)\n",
    "\n",
    "# image size\n",
    "plt.gcf().set_size_inches(6, 4)\n",
    "plt.savefig(\"T-vs-m.png\", dpi=300, bbox_inches=\"tight\")\n",
    "# Display the plot\n",
    "plt.show()"
   ]
  },
  {
   "cell_type": "markdown",
   "id": "9f7f3af4",
   "metadata": {},
   "source": [
    "# 2) \n",
    "# 2.1) T vs L"
   ]
  },
  {
   "cell_type": "code",
   "execution_count": 23,
   "id": "71a29e49",
   "metadata": {},
   "outputs": [
    {
     "data": {
      "text/html": [
       "<div>\n",
       "<style scoped>\n",
       "    .dataframe tbody tr th:only-of-type {\n",
       "        vertical-align: middle;\n",
       "    }\n",
       "\n",
       "    .dataframe tbody tr th {\n",
       "        vertical-align: top;\n",
       "    }\n",
       "\n",
       "    .dataframe thead th {\n",
       "        text-align: right;\n",
       "    }\n",
       "</style>\n",
       "<table border=\"1\" class=\"dataframe\">\n",
       "  <thead>\n",
       "    <tr style=\"text-align: right;\">\n",
       "      <th></th>\n",
       "      <th>L</th>\n",
       "      <th>t</th>\n",
       "      <th>T</th>\n",
       "    </tr>\n",
       "  </thead>\n",
       "  <tbody>\n",
       "    <tr>\n",
       "      <th>0</th>\n",
       "      <td>0.3</td>\n",
       "      <td>10.34</td>\n",
       "      <td>1.034</td>\n",
       "    </tr>\n",
       "    <tr>\n",
       "      <th>1</th>\n",
       "      <td>0.4</td>\n",
       "      <td>12.04</td>\n",
       "      <td>1.204</td>\n",
       "    </tr>\n",
       "    <tr>\n",
       "      <th>2</th>\n",
       "      <td>0.5</td>\n",
       "      <td>13.81</td>\n",
       "      <td>1.381</td>\n",
       "    </tr>\n",
       "    <tr>\n",
       "      <th>3</th>\n",
       "      <td>0.6</td>\n",
       "      <td>15.00</td>\n",
       "      <td>1.500</td>\n",
       "    </tr>\n",
       "    <tr>\n",
       "      <th>4</th>\n",
       "      <td>0.7</td>\n",
       "      <td>16.56</td>\n",
       "      <td>1.656</td>\n",
       "    </tr>\n",
       "    <tr>\n",
       "      <th>5</th>\n",
       "      <td>0.8</td>\n",
       "      <td>17.40</td>\n",
       "      <td>1.740</td>\n",
       "    </tr>\n",
       "    <tr>\n",
       "      <th>6</th>\n",
       "      <td>0.9</td>\n",
       "      <td>18.64</td>\n",
       "      <td>1.864</td>\n",
       "    </tr>\n",
       "    <tr>\n",
       "      <th>7</th>\n",
       "      <td>1.0</td>\n",
       "      <td>19.90</td>\n",
       "      <td>1.990</td>\n",
       "    </tr>\n",
       "    <tr>\n",
       "      <th>8</th>\n",
       "      <td>1.1</td>\n",
       "      <td>20.78</td>\n",
       "      <td>2.078</td>\n",
       "    </tr>\n",
       "    <tr>\n",
       "      <th>9</th>\n",
       "      <td>1.2</td>\n",
       "      <td>21.46</td>\n",
       "      <td>2.146</td>\n",
       "    </tr>\n",
       "    <tr>\n",
       "      <th>10</th>\n",
       "      <td>1.3</td>\n",
       "      <td>22.56</td>\n",
       "      <td>2.256</td>\n",
       "    </tr>\n",
       "    <tr>\n",
       "      <th>11</th>\n",
       "      <td>1.4</td>\n",
       "      <td>23.62</td>\n",
       "      <td>2.362</td>\n",
       "    </tr>\n",
       "  </tbody>\n",
       "</table>\n",
       "</div>"
      ],
      "text/plain": [
       "      L      t      T\n",
       "0   0.3  10.34  1.034\n",
       "1   0.4  12.04  1.204\n",
       "2   0.5  13.81  1.381\n",
       "3   0.6  15.00  1.500\n",
       "4   0.7  16.56  1.656\n",
       "5   0.8  17.40  1.740\n",
       "6   0.9  18.64  1.864\n",
       "7   1.0  19.90  1.990\n",
       "8   1.1  20.78  2.078\n",
       "9   1.2  21.46  2.146\n",
       "10  1.3  22.56  2.256\n",
       "11  1.4  23.62  2.362"
      ]
     },
     "execution_count": 23,
     "metadata": {},
     "output_type": "execute_result"
    }
   ],
   "source": [
    "df_TvsL = load_excel_to_df(\"T_vs_L\")\n",
    "df_TvsL"
   ]
  },
  {
   "cell_type": "code",
   "execution_count": null,
   "id": "3adfc93f",
   "metadata": {},
   "outputs": [],
   "source": [
    "L = df_TvsL[\"L\"].to_numpy()\n",
    "T_L = df_TvsL[\"T\"].to_numpy()"
   ]
  },
  {
   "cell_type": "code",
   "execution_count": 10,
   "id": "336dab20",
   "metadata": {},
   "outputs": [
    {
     "name": "stdout",
     "output_type": "stream",
     "text": [
      "Period function g: [10.20330858]\n"
     ]
    },
    {
     "data": {
      "image/png": "[encoded data removed]",
      "text/plain": [
       "<Figure size 600x400 with 1 Axes>"
      ]
     },
     "metadata": {},
     "output_type": "display_data"
    }
   ],
   "source": [
    "plt.rcParams[\"font.family\"] = \"serif\"\n",
    "plt.rcParams[\"mathtext.fontset\"] = \"dejavuserif\"\n",
    "#plt.rcParams[\"font.size\"] = 12\n",
    "# Add the new set of points to the existing plot\n",
    "plt.plot(L, T_L, marker='o', markersize=6 , linestyle='None', color='b')\n",
    "\n",
    "popt, pcov = opt.curve_fit(periodo, L, T_L)\n",
    "print(\"Period function g:\", popt)\n",
    "\n",
    "longitud = np.linspace(min(L), max(L), 100)\n",
    "y = periodo(longitud, *popt)\n",
    "plt.plot(longitud, y, color='salmon', linestyle='dashed', linewidth=2, label='Ajuste hiperbola')\n",
    "\n",
    "\n",
    "# Add labels, title, legend (if needed)\n",
    "plt.xlabel(\"Longitud (m)\")\n",
    "plt.ylabel(\"Periodo (s)\")\n",
    "# plt.legend()  # Show the legend\n",
    "\n",
    "#plt.ylim(0,5)\n",
    "# xticks_positions = [0.5, 1.0, 1.5, 2.0]\n",
    "# xticks_labels = ['0.5', '1.0', '1.5', '2.0']\n",
    "\n",
    "# yticks_positions = [0.25, 0.5, 0.75, 1.0, 1.25, 1.5]\n",
    "# yticks_labels = ['0.25', '0.5', '0.75', '1.0', '1.25', '1.5']\n",
    "\n",
    "# plt.xticks(xticks_positions, xticks_labels)\n",
    "# plt.yticks(yticks_positions, yticks_labels)\n",
    "\n",
    "# image size\n",
    "plt.gcf().set_size_inches(6, 4)\n",
    "plt.savefig(\"T-vs-L.png\", dpi=300, bbox_inches=\"tight\")\n",
    "# Display the plot\n",
    "plt.show()"
   ]
  },
  {
   "cell_type": "markdown",
   "id": "ad722c5a",
   "metadata": {},
   "source": [
    "# 2.2) $T^2$ vs $L$"
   ]
  },
  {
   "cell_type": "code",
   "execution_count": 11,
   "id": "04e16452",
   "metadata": {},
   "outputs": [
    {
     "name": "stdout",
     "output_type": "stream",
     "text": [
      "Period function g: [10.13647333]\n"
     ]
    },
    {
     "data": {
      "image/png": "[encoded data removed]",
      "text/plain": [
       "<Figure size 600x400 with 1 Axes>"
      ]
     },
     "metadata": {},
     "output_type": "display_data"
    }
   ],
   "source": [
    "plt.rcParams[\"font.family\"] = \"serif\"\n",
    "plt.rcParams[\"mathtext.fontset\"] = \"dejavuserif\"\n",
    "#plt.rcParams[\"font.size\"] = 12\n",
    "# Add the new set of points to the existing plot\n",
    "plt.plot(L, T_L**2, marker='o', markersize=6 , linestyle='None', color='b')\n",
    "\n",
    "popt, pcov = opt.curve_fit(periodo_square, L, T_L**2)\n",
    "print(\"Period function g:\", popt)\n",
    "\n",
    "longitud = np.linspace(min(L), max(L), 100)\n",
    "y = periodo_square(longitud, *popt)\n",
    "plt.plot(longitud, y, color='salmon', linestyle='dashed', linewidth=2, label='Ajuste hiperbola')\n",
    "\n",
    "\n",
    "# Add labels, title, legend (if needed)\n",
    "plt.xlabel(\"Longitud (m)\")\n",
    "plt.ylabel(\"Periodo $T^2$ ($s^2$)\")\n",
    "# plt.legend()  # Show the legend\n",
    "\n",
    "#plt.ylim(0,5)\n",
    "# xticks_positions = [0.5, 1.0, 1.5, 2.0]\n",
    "# xticks_labels = ['0.5', '1.0', '1.5', '2.0']\n",
    "\n",
    "# yticks_positions = [0.25, 0.5, 0.75, 1.0, 1.25, 1.5]\n",
    "# yticks_labels = ['0.25', '0.5', '0.75', '1.0', '1.25', '1.5']\n",
    "\n",
    "# plt.xticks(xticks_positions, xticks_labels)\n",
    "# plt.yticks(yticks_positions, yticks_labels)\n",
    "\n",
    "# image size\n",
    "plt.gcf().set_size_inches(6, 4)\n",
    "plt.savefig(\"T_sq-vs-L.png\", dpi=300, bbox_inches=\"tight\")\n",
    "# Display the plot\n",
    "plt.show()"
   ]
  },
  {
   "cell_type": "markdown",
   "id": "e7b6644b",
   "metadata": {},
   "source": [
    "# 3.3) $\\ln T vs \\ln L$"
   ]
  },
  {
   "cell_type": "code",
   "execution_count": 12,
   "id": "4a401dbc",
   "metadata": {},
   "outputs": [
    {
     "name": "stderr",
     "output_type": "stream",
     "text": [
      "<>:20: SyntaxWarning: invalid escape sequence '\\l'\n",
      "<>:21: SyntaxWarning: invalid escape sequence '\\l'\n",
      "<>:20: SyntaxWarning: invalid escape sequence '\\l'\n",
      "<>:21: SyntaxWarning: invalid escape sequence '\\l'\n",
      "C:\\Users\\RenzoStefanoHillmann\\AppData\\Local\\Temp\\ipykernel_21528\\4172630685.py:20: SyntaxWarning: invalid escape sequence '\\l'\n",
      "  plt.xlabel(\"$\\ln L$\")\n",
      "C:\\Users\\RenzoStefanoHillmann\\AppData\\Local\\Temp\\ipykernel_21528\\4172630685.py:21: SyntaxWarning: invalid escape sequence '\\l'\n",
      "  plt.ylabel(\"$\\ln T$\")\n"
     ]
    },
    {
     "name": "stdout",
     "output_type": "stream",
     "text": [
      "Slope and intercept [0.53112222 0.67904984]\n"
     ]
    },
    {
     "data": {
      "image/png": "[encoded data removed]",
      "text/plain": [
       "<Figure size 600x400 with 1 Axes>"
      ]
     },
     "metadata": {},
     "output_type": "display_data"
    }
   ],
   "source": [
    "lnL = np.log(L)\n",
    "lnT = np.log(T_L)\n",
    "\n",
    "\n",
    "plt.rcParams[\"font.family\"] = \"serif\"\n",
    "plt.rcParams[\"mathtext.fontset\"] = \"dejavuserif\"\n",
    "#plt.rcParams[\"font.size\"] = 12\n",
    "# Add the new set of points to the existing plot\n",
    "plt.plot(lnL, lnT, marker='o', markersize=6 , linestyle='None', color='b')\n",
    "\n",
    "popt, pcov = opt.curve_fit(linear, lnL, lnT)\n",
    "print(\"Slope and intercept\", popt)\n",
    "\n",
    "longitud = np.linspace(min(lnL), max(lnL), 100)\n",
    "y = linear(longitud, *popt)\n",
    "plt.plot(longitud, y, color='salmon', linestyle='dashed', linewidth=2, label='Ajuste hiperbola')\n",
    "\n",
    "\n",
    "# Add labels, title, legend (if needed)\n",
    "plt.xlabel(\"$\\ln L$\")\n",
    "plt.ylabel(\"$\\ln T$\")\n",
    "# plt.legend()  # Show the legend\n",
    "\n",
    "#plt.ylim(0,5)\n",
    "# xticks_positions = [0.5, 1.0, 1.5, 2.0]\n",
    "# xticks_labels = ['0.5', '1.0', '1.5', '2.0']\n",
    "\n",
    "# yticks_positions = [0.25, 0.5, 0.75, 1.0, 1.25, 1.5]\n",
    "# yticks_labels = ['0.25', '0.5', '0.75', '1.0', '1.25', '1.5']\n",
    "\n",
    "# plt.xticks(xticks_positions, xticks_labels)\n",
    "# plt.yticks(yticks_positions, yticks_labels)\n",
    "\n",
    "# image size\n",
    "plt.gcf().set_size_inches(6, 4)\n",
    "plt.savefig(\"lnT-vs-lnL.png\", dpi=300, bbox_inches=\"tight\")\n",
    "# Display the plot\n",
    "plt.show()"
   ]
  },
  {
   "cell_type": "markdown",
   "id": "d6809bb6",
   "metadata": {},
   "source": [
    "# 3) $T$ vs $\\theta$"
   ]
  },
  {
   "cell_type": "code",
   "execution_count": 13,
   "id": "886b7ea2",
   "metadata": {},
   "outputs": [],
   "source": [
    "df_TvsTheta = load_excel_to_df(\"T_vs_Theta\")"
   ]
  },
  {
   "cell_type": "code",
   "execution_count": 22,
   "id": "6f7406a5",
   "metadata": {},
   "outputs": [
    {
     "data": {
      "text/plain": [
       "array([1.63 , 1.64 , 1.66 , 1.688, 1.7  , 1.732, 1.78 , 1.814, 1.873])"
      ]
     },
     "execution_count": 22,
     "metadata": {},
     "output_type": "execute_result"
    }
   ],
   "source": [
    "theta = df_TvsTheta['theta'].to_numpy()\n",
    "T_theta = df_TvsTheta['T'].to_numpy() \n",
    "T_theta"
   ]
  },
  {
   "cell_type": "code",
   "execution_count": 15,
   "id": "53f5846a",
   "metadata": {},
   "outputs": [
    {
     "data": {
      "image/png": "[encoded data removed]",
      "text/plain": [
       "<Figure size 600x400 with 1 Axes>"
      ]
     },
     "metadata": {},
     "output_type": "display_data"
    }
   ],
   "source": [
    "plt.rcParams[\"font.family\"] = \"serif\"\n",
    "plt.rcParams[\"mathtext.fontset\"] = \"dejavuserif\"\n",
    "#plt.rcParams[\"font.size\"] = 12\n",
    "\n",
    "# Add the new set of points to the existing plot\n",
    "plt.plot(theta, T_theta, marker='o', markersize=6 , linestyle='None', color='orange')\n",
    "\n",
    "\n",
    "# Add labels, title, legend (if needed)\n",
    "plt.xlabel(\"Ángulo (°)\")\n",
    "plt.ylabel(\"Periodo (s)\")\n",
    "# plt.legend()  # Show the legend\n",
    "\n",
    "#plt.ylim(0,5)\n",
    "# xticks_positions = [0.5, 1.0, 1.5, 2.0]\n",
    "# xticks_labels = ['0.5', '1.0', '1.5', '2.0']\n",
    "\n",
    "# yticks_positions = [0.25, 0.5, 0.75, 1.0, 1.25, 1.5]\n",
    "# yticks_labels = ['0.25', '0.5', '0.75', '1.0', '1.25', '1.5']\n",
    "\n",
    "# plt.xticks(xticks_positions, xticks_labels)\n",
    "# plt.yticks(yticks_positions, yticks_labels)\n",
    "\n",
    "# image size\n",
    "plt.gcf().set_size_inches(6, 4)\n",
    "plt.savefig(\"T-vs-Theta.png\", dpi=300, bbox_inches=\"tight\")\n",
    "# Display the plot\n",
    "plt.show()"
   ]
  },
  {
   "cell_type": "code",
   "execution_count": null,
   "id": "4aabd42c",
   "metadata": {},
   "outputs": [],
   "source": []
  }
 ],
 "metadata": {
  "kernelspec": {
   "display_name": "base",
   "language": "python",
   "name": "python3"
  },
  "language_info": {
   "codemirror_mode": {
    "name": "ipython",
    "version": 3
   },
   "file_extension": ".py",
   "mimetype": "text/x-python",
   "name": "python",
   "nbconvert_exporter": "python",
   "pygments_lexer": "ipython3",
   "version": "3.12.7"
  }
 },
 "nbformat": 4,
 "nbformat_minor": 5
}
