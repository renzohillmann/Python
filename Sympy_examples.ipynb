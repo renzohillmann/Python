{
 "cells": [
  {
   "cell_type": "code",
   "execution_count": 1,
   "metadata": {},
   "outputs": [
    {
     "data": {
      "text/plain": [
       "{2*ω**2: 1, ω**2*(2 - sqrt(2)): 1, ω**2*(sqrt(2) + 2): 1}"
      ]
     },
     "execution_count": 1,
     "metadata": {},
     "output_type": "execute_result"
    }
   ],
   "source": [
    "import sympy\n",
    "\n",
    "ω = sympy.symbols('ω')\n",
    "\n",
    "A = sympy.Matrix([\n",
    " [2*ω**2, -ω**2, 0],\n",
    " [-ω**2, 2*ω**2, -ω**2],\n",
    " [0, -ω**2, 2*ω**2]\n",
    "])\n",
    "\n",
    "A.eigenvals()"
   ]
  },
  {
   "cell_type": "markdown",
   "metadata": {},
   "source": [
    "$$\n",
    "\\begin{align*}\n",
    "& \\omega_{1}^2 = 2 \\omega_0^2, \\\\\n",
    "& \\omega_{2}^2 = \\omega_0^2 (2 - \\sqrt{2}), \\\\\n",
    "& \\omega_{3}^2 = \\omega_0^2 (\\sqrt{2} + 2), \\\\\n",
    "\\end{align*}\n",
    "$$\n"
   ]
  },
  {
   "cell_type": "code",
   "execution_count": 2,
   "metadata": {},
   "outputs": [
    {
     "data": {
      "text/plain": [
       "[(2*ω**2,\n",
       "  1,\n",
       "  [Matrix([\n",
       "   [-1],\n",
       "   [ 0],\n",
       "   [ 1]])]),\n",
       " (ω**2*(2 - sqrt(2)),\n",
       "  1,\n",
       "  [Matrix([\n",
       "   [      1],\n",
       "   [sqrt(2)],\n",
       "   [      1]])]),\n",
       " (ω**2*(sqrt(2) + 2),\n",
       "  1,\n",
       "  [Matrix([\n",
       "   [       1],\n",
       "   [-sqrt(2)],\n",
       "   [       1]])])]"
      ]
     },
     "execution_count": 2,
     "metadata": {},
     "output_type": "execute_result"
    }
   ],
   "source": [
    "A.eigenvects()"
   ]
  },
  {
   "cell_type": "code",
   "execution_count": 3,
   "metadata": {},
   "outputs": [
    {
     "name": "stdout",
     "output_type": "stream",
     "text": [
      "{x: 39/20, y: 3/4, z: -7/20}\n"
     ]
    }
   ],
   "source": [
    "from sympy import symbols, Eq, solve\n",
    "\n",
    "x, y, z = symbols('x y z')\n",
    "\n",
    "eq1 = Eq(2*x + y - z, 5)\n",
    "eq2 = Eq(x - 3*y + 2*z, -1)\n",
    "eq3 = Eq(3*x + 2*y + z, 7)\n",
    "\n",
    "solution = solve((eq1, eq2, eq3), (x, y, z))\n",
    "print(solution)\n"
   ]
  },
  {
   "cell_type": "code",
   "execution_count": 4,
   "metadata": {},
   "outputs": [
    {
     "name": "stdout",
     "output_type": "stream",
     "text": [
      "Matrix([[(e*i - f*h)/(a*e*i - a*f*h - b*d*i + b*f*g + c*d*h - c*e*g), (-b*i + c*h)/(a*e*i - a*f*h - b*d*i + b*f*g + c*d*h - c*e*g), (b*f - c*e)/(a*e*i - a*f*h - b*d*i + b*f*g + c*d*h - c*e*g)], [(-d*i + f*g)/(a*e*i - a*f*h - b*d*i + b*f*g + c*d*h - c*e*g), (a*i - c*g)/(a*e*i - a*f*h - b*d*i + b*f*g + c*d*h - c*e*g), (-a*f + c*d)/(a*e*i - a*f*h - b*d*i + b*f*g + c*d*h - c*e*g)], [(d*h - e*g)/(a*e*i - a*f*h - b*d*i + b*f*g + c*d*h - c*e*g), (-a*h + b*g)/(a*e*i - a*f*h - b*d*i + b*f*g + c*d*h - c*e*g), (a*e - b*d)/(a*e*i - a*f*h - b*d*i + b*f*g + c*d*h - c*e*g)]])\n"
     ]
    }
   ],
   "source": [
    "import sympy as sp\n",
    "\n",
    "a, b, c, d, e, f, g, h, i = sp.symbols('a b c d e f g h i')\n",
    "M = sp.Matrix([[a, b, c], [d, e, f], [g, h, i]])\n",
    "M_inv = M.inv()\n",
    "print(M_inv)\n"
   ]
  },
  {
   "cell_type": "code",
   "execution_count": 5,
   "metadata": {},
   "outputs": [
    {
     "data": {
      "text/latex": [
       "$\\displaystyle \\left[\\begin{matrix}\\frac{x_{0} ω_{0}^{2} \\left(- ω^{4} + 4 ω^{2} ω_{0}^{2} - 3 ω_{0}^{4}\\right)}{ω^{6} - 6 ω^{4} ω_{0}^{2} + 10 ω^{2} ω_{0}^{4} - 4 ω_{0}^{6}}\\\\\\frac{x_{0} ω_{0}^{4}}{ω^{4} - 4 ω^{2} ω_{0}^{2} + 2 ω_{0}^{4}}\\\\- \\frac{x_{0} ω_{0}^{6}}{ω^{6} - 6 ω^{4} ω_{0}^{2} + 10 ω^{2} ω_{0}^{4} - 4 ω_{0}^{6}}\\end{matrix}\\right]$"
      ],
      "text/plain": [
       "Matrix([\n",
       "[x0*ω0**2*(-ω**4 + 4*ω**2*ω0**2 - 3*ω0**4)/(ω**6 - 6*ω**4*ω0**2 + 10*ω**2*ω0**4 - 4*ω0**6)],\n",
       "[                                                 x0*ω0**4/(ω**4 - 4*ω**2*ω0**2 + 2*ω0**4)],\n",
       "[                                -x0*ω0**6/(ω**6 - 6*ω**4*ω0**2 + 10*ω**2*ω0**4 - 4*ω0**6)]])"
      ]
     },
     "execution_count": 5,
     "metadata": {},
     "output_type": "execute_result"
    }
   ],
   "source": [
    "import sympy as sp\n",
    "\n",
    "# solving system D*B = Fm\n",
    "ω, ω0, x0 = sp.symbols('ω ω0 x0')\n",
    "\n",
    "D = sp.Matrix([\n",
    " [2*ω0**2 - ω**2, -ω0**2, 0],\n",
    " [-ω0**2, 2*ω0**2 - ω**2, -ω0**2],\n",
    " [0, -ω0**2, 2*ω0**2 - ω**2]\n",
    "])\n",
    "\n",
    "Fm = sp.Matrix([[ω0**2*x0], [0], [0]])\n",
    "\n",
    "B = D.inv()*Fm\n",
    "B\n"
   ]
  },
  {
   "cell_type": "code",
   "execution_count": 12,
   "metadata": {},
   "outputs": [
    {
     "data": {
      "text/latex": [
       "$\\displaystyle \\frac{x_{0} ω_{0}^{2} \\left(- ω^{4} + 4 ω^{2} ω_{0}^{2} - 3 ω_{0}^{4}\\right)}{ω^{6} - 6 ω^{4} ω_{0}^{2} + 10 ω^{2} ω_{0}^{4} - 4 ω_{0}^{6}}$"
      ],
      "text/plain": [
       "x0*ω0**2*(-ω**4 + 4*ω**2*ω0**2 - 3*ω0**4)/(ω**6 - 6*ω**4*ω0**2 + 10*ω**2*ω0**4 - 4*ω0**6)"
      ]
     },
     "execution_count": 12,
     "metadata": {},
     "output_type": "execute_result"
    }
   ],
   "source": [
    "D = sp.Matrix([\n",
    " [2*ω0**2 - ω**2, -ω0**2, 0],\n",
    " [-ω0**2, 2*ω0**2 - ω**2, -ω0**2],\n",
    " [0, -ω0**2, 2*ω0**2 - ω**2]\n",
    "])\n",
    "\n",
    "\n",
    "D1 = sp.Matrix([\n",
    " [ω0**2*x0, -ω0**2, 0],\n",
    " [0, 2*ω0**2 - ω**2, -ω0**2],\n",
    " [0, -ω0**2, 2*ω0**2 - ω**2]\n",
    "])\n",
    "\n",
    "B1 = D1.det()/D.det()\n",
    "B1 = sp.simplify(B1)\n",
    "B1"
   ]
  },
  {
   "cell_type": "code",
   "execution_count": 8,
   "metadata": {},
   "outputs": [
    {
     "data": {
      "text/latex": [
       "$\\displaystyle \\frac{x_{0} ω_{0}^{4}}{ω^{4} - 4 ω^{2} ω_{0}^{2} + 2 ω_{0}^{4}}$"
      ],
      "text/plain": [
       "x0*ω0**4/(ω**4 - 4*ω**2*ω0**2 + 2*ω0**4)"
      ]
     },
     "execution_count": 8,
     "metadata": {},
     "output_type": "execute_result"
    }
   ],
   "source": [
    "D = sp.Matrix([\n",
    " [2*ω0**2 - ω**2, -ω0**2, 0],\n",
    " [-ω0**2, 2*ω0**2 - ω**2, -ω0**2],\n",
    " [0, -ω0**2, 2*ω0**2 - ω**2]\n",
    "])\n",
    "\n",
    "D2 = sp.Matrix([\n",
    " [2*ω0**2 - ω**2, ω0**2*x0, 0],\n",
    " [-ω0**2, 0, -ω0**2],\n",
    " [0, 0, 2*ω0**2 - ω**2]\n",
    "])\n",
    "\n",
    "B2 = D2.det()/D.det()\n",
    "B2 = sp.simplify(B2)\n",
    "B2"
   ]
  },
  {
   "cell_type": "code",
   "execution_count": 13,
   "metadata": {},
   "outputs": [
    {
     "data": {
      "text/latex": [
       "$\\displaystyle - \\frac{x_{0} ω_{0}^{6}}{ω^{6} - 6 ω^{4} ω_{0}^{2} + 10 ω^{2} ω_{0}^{4} - 4 ω_{0}^{6}}$"
      ],
      "text/plain": [
       "-x0*ω0**6/(ω**6 - 6*ω**4*ω0**2 + 10*ω**2*ω0**4 - 4*ω0**6)"
      ]
     },
     "execution_count": 13,
     "metadata": {},
     "output_type": "execute_result"
    }
   ],
   "source": [
    "D = sp.Matrix([\n",
    " [2*ω0**2 - ω**2, -ω0**2, 0],\n",
    " [-ω0**2, 2*ω0**2 - ω**2, -ω0**2],\n",
    " [0, -ω0**2, 2*ω0**2 - ω**2]\n",
    "])\n",
    "\n",
    "D3 = sp.Matrix([\n",
    " [2*ω0**2 - ω**2, -ω0**2, ω0**2*x0],\n",
    " [-ω0**2, 2*ω0**2 - ω**2, 0],\n",
    " [0, -ω0**2, 0]\n",
    "])\n",
    "\n",
    "B3 = D3.det()/D.det()\n",
    "B3 = sp.simplify(B3)\n",
    "B3"
   ]
  },
  {
   "cell_type": "code",
   "execution_count": 15,
   "metadata": {},
   "outputs": [
    {
     "data": {
      "text/plain": [
       "(True, True, True)"
      ]
     },
     "execution_count": 15,
     "metadata": {},
     "output_type": "execute_result"
    }
   ],
   "source": [
    "(B1 == B[0], B2 == B[1], B3 == B[2])"
   ]
  },
  {
   "cell_type": "code",
   "execution_count": null,
   "metadata": {},
   "outputs": [],
   "source": []
  }
 ],
 "metadata": {
  "kernelspec": {
   "display_name": "Python 3 (ipykernel)",
   "language": "python",
   "name": "python3"
  },
  "language_info": {
   "codemirror_mode": {
    "name": "ipython",
    "version": 3
   },
   "file_extension": ".py",
   "mimetype": "text/x-python",
   "name": "python",
   "nbconvert_exporter": "python",
   "pygments_lexer": "ipython3",
   "version": "3.11.0"
  }
 },
 "nbformat": 4,
 "nbformat_minor": 4
}
