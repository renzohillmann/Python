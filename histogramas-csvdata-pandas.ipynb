{
 "cells": [
  {
   "cell_type": "code",
   "execution_count": 40,
   "metadata": {
    "scrolled": false
   },
   "outputs": [],
   "source": [
    "#Esta celda solo importa librerias\n",
    "import numpy as np\n",
    "import matplotlib.pyplot as plt\n",
    "import pandas as pd\n",
    "import scipy as sp\n",
    "\n",
    "from scipy import optimize\n",
    "#esto es un comentario :3 \n",
    "# el asterisco se pone con alt gr+3\n",
    "#las celdas se corren con ctrl+ enter"
   ]
  },
  {
   "cell_type": "code",
   "execution_count": 7,
   "metadata": {},
   "outputs": [
    {
     "name": "stdout",
     "output_type": "stream",
     "text": [
      "             t         x         y         vx         vy         V\n",
      "0      50.1167   8.90685   9.38790  -2.402430  -6.306650   6.74874\n",
      "1      50.1167  16.06010  17.49830   0.656528   5.384970   5.42485\n",
      "2      50.1167  15.14530   4.65097   4.843830   7.450140   8.88635\n",
      "3      50.1167   1.54171  10.68460  -0.235161   2.253090   2.26533\n",
      "4      50.1167   2.17889   2.13983  -1.534850   0.836409   1.74795\n",
      "...        ...       ...       ...        ...        ...       ...\n",
      "8320  149.7500   1.44250   2.22117   2.149830  -2.257350   3.11727\n",
      "8321  149.7500  18.09580  14.93080 -19.115200  11.965400  22.55130\n",
      "8322  149.7500   8.21489  16.31600  -5.141020   2.259880   5.61580\n",
      "8323  149.7500   2.07390  12.11730  12.437100   4.934600  13.38030\n",
      "8324  149.7500   7.83131  11.48860  -3.252340 -11.389700  11.84490\n",
      "\n",
      "[8325 rows x 6 columns]\n"
     ]
    }
   ],
   "source": [
    "datos= pd.read_csv(\"datos.csv\")\n",
    "print(datos)"
   ]
  },
  {
   "cell_type": "code",
   "execution_count": 8,
   "metadata": {},
   "outputs": [
    {
     "data": {
      "text/plain": [
       "array([-25.2021, -24.2021, -23.2021, -22.2021, -21.2021, -20.2021,\n",
       "       -19.2021, -18.2021, -17.2021, -16.2021, -15.2021, -14.2021,\n",
       "       -13.2021, -12.2021, -11.2021, -10.2021,  -9.2021,  -8.2021,\n",
       "        -7.2021,  -6.2021,  -5.2021,  -4.2021,  -3.2021,  -2.2021,\n",
       "        -1.2021,  -0.2021,   0.7979,   1.7979,   2.7979,   3.7979,\n",
       "         4.7979,   5.7979,   6.7979,   7.7979,   8.7979,   9.7979,\n",
       "        10.7979,  11.7979,  12.7979,  13.7979,  14.7979,  15.7979,\n",
       "        16.7979,  17.7979,  18.7979,  19.7979,  20.7979])"
      ]
     },
     "execution_count": 8,
     "metadata": {},
     "output_type": "execute_result"
    }
   ],
   "source": [
    "intervalos_vx=np.arange(min(datos[\"vx\"]),max(datos[\"vx\"]))\n",
    "intervalos_vx"
   ]
  },
  {
   "cell_type": "code",
   "execution_count": 9,
   "metadata": {},
   "outputs": [
    {
     "ename": "SyntaxError",
     "evalue": "invalid syntax (3715251523.py, line 2)",
     "output_type": "error",
     "traceback": [
      "\u001b[1;36m  Input \u001b[1;32mIn [9]\u001b[1;36m\u001b[0m\n\u001b[1;33m    def gauss(x, A)\u001b[0m\n\u001b[1;37m                   ^\u001b[0m\n\u001b[1;31mSyntaxError\u001b[0m\u001b[1;31m:\u001b[0m invalid syntax\n"
     ]
    }
   ],
   "source": [
    "promedio = np.mean(datos[\"vx\"])\n",
    "def gauss(x, A)"
   ]
  },
  {
   "cell_type": "code",
   "execution_count": 11,
   "metadata": {},
   "outputs": [
    {
     "ename": "AttributeError",
     "evalue": "module 'scipy' has no attribute 'stats'",
     "output_type": "error",
     "traceback": [
      "\u001b[1;31m---------------------------------------------------------------------------\u001b[0m",
      "\u001b[1;31mAttributeError\u001b[0m                            Traceback (most recent call last)",
      "Input \u001b[1;32mIn [11]\u001b[0m, in \u001b[0;36m<cell line: 6>\u001b[1;34m()\u001b[0m\n\u001b[0;32m      4\u001b[0m plt\u001b[38;5;241m.\u001b[39mylabel(\u001b[38;5;124m\"\u001b[39m\u001b[38;5;124mFrecuencia\u001b[39m\u001b[38;5;124m\"\u001b[39m)\n\u001b[0;32m      5\u001b[0m plt\u001b[38;5;241m.\u001b[39mtitle(\u001b[38;5;124m\"\u001b[39m\u001b[38;5;124mHistograma de v_x\u001b[39m\u001b[38;5;124m\"\u001b[39m)\n\u001b[1;32m----> 6\u001b[0m plt\u001b[38;5;241m.\u001b[39mplot(intervalos_vx, \u001b[43msp\u001b[49m\u001b[38;5;241;43m.\u001b[39;49m\u001b[43mstats\u001b[49m\u001b[38;5;241m.\u001b[39mnorm\u001b[38;5;241m.\u001b[39mpdf(intervalos_vx, \u001b[38;5;241m0\u001b[39m, \u001b[38;5;241m1\u001b[39m))\n\u001b[0;32m      7\u001b[0m plt\u001b[38;5;241m.\u001b[39mgrid()\n\u001b[0;32m      8\u001b[0m plt\u001b[38;5;241m.\u001b[39mshow()\n",
      "\u001b[1;31mAttributeError\u001b[0m: module 'scipy' has no attribute 'stats'"
     ]
    },
    {
     "data": {
      "image/png": "[encoded data removed]",
      "text/plain": [
       "<Figure size 432x288 with 1 Axes>"
      ]
     },
     "metadata": {
      "needs_background": "light"
     },
     "output_type": "display_data"
    }
   ],
   "source": [
    "#para graficar datos\n",
    "plt.hist(datos[\"vx\"], bins=60)\n",
    "plt.xlabel(\"vel_x\")\n",
    "plt.ylabel(\"Frecuencia\")\n",
    "plt.title(\"Histograma de v_x\")\n",
    "plt.plot(intervalos_vx, sp.stats.norm.pdf(intervalos_vx, 0, 1))\n",
    "plt.grid()\n",
    "plt.show()"
   ]
  },
  {
   "cell_type": "code",
   "execution_count": 19,
   "metadata": {},
   "outputs": [
    {
     "ename": "AttributeError",
     "evalue": "module 'scipy' has no attribute 'stats'",
     "output_type": "error",
     "traceback": [
      "\u001b[1;31m---------------------------------------------------------------------------\u001b[0m",
      "\u001b[1;31mAttributeError\u001b[0m                            Traceback (most recent call last)",
      "Input \u001b[1;32mIn [19]\u001b[0m, in \u001b[0;36m<cell line: 1>\u001b[1;34m()\u001b[0m\n\u001b[1;32m----> 1\u001b[0m plt\u001b[38;5;241m.\u001b[39mplot(intervalos_vx, \u001b[43msp\u001b[49m\u001b[38;5;241;43m.\u001b[39;49m\u001b[43mstats\u001b[49m\u001b[38;5;241m.\u001b[39mnorm\u001b[38;5;241m.\u001b[39mpdf(intervalos_vx))\n\u001b[0;32m      2\u001b[0m plt\u001b[38;5;241m.\u001b[39mgrid()\n\u001b[0;32m      3\u001b[0m plt\u001b[38;5;241m.\u001b[39mshow()\n",
      "\u001b[1;31mAttributeError\u001b[0m: module 'scipy' has no attribute 'stats'"
     ]
    }
   ],
   "source": [
    "plt.plot(intervalos_vx, sp.stats.norm.pdf(intervalos_vx))\n",
    "plt.grid()\n",
    "plt.show()"
   ]
  },
  {
   "cell_type": "code",
   "execution_count": 13,
   "metadata": {
    "scrolled": false
   },
   "outputs": [
    {
     "data": {
      "image/png": "[encoded data removed]",
      "text/plain": [
       "<Figure size 432x288 with 1 Axes>"
      ]
     },
     "metadata": {
      "needs_background": "light"
     },
     "output_type": "display_data"
    }
   ],
   "source": [
    "#para graficar datos\n",
    "plt.hist(datos[\"V\"], bins=60)\n",
    "plt.xlabel(\"vel\")\n",
    "plt.ylabel(\"Frecuencia\")\n",
    "plt.title(\"Histograma de V\")\n",
    "plt.grid()\n",
    "plt.show()"
   ]
  },
  {
   "cell_type": "code",
   "execution_count": 14,
   "metadata": {},
   "outputs": [
    {
     "name": "stdout",
     "output_type": "stream",
     "text": [
      "[-2.40243   0.656528  4.84383  ... -5.14102  12.4371   -3.25234 ]\n"
     ]
    },
    {
     "data": {
      "text/plain": [
       "(array([  1,   2,   0,   0,   1,   6,   2,  17,   5,  18,  11,  46,  43,\n",
       "         50,  61,  72,  67,  80, 140, 140, 168, 209, 229, 196, 258, 270,\n",
       "        269, 361, 244, 359, 386, 428, 417, 333, 333, 278, 325, 331, 242,\n",
       "        310, 246, 181, 230, 125, 140, 151,  92,  74,  67,  59,  64,  44,\n",
       "         39,  33,  36,  12,   6,  14,   3,   1], dtype=int64),\n",
       " array([-25.2021    , -24.41988167, -23.63766333, -22.855445  ,\n",
       "        -22.07322667, -21.29100833, -20.50879   , -19.72657167,\n",
       "        -18.94435333, -18.162135  , -17.37991667, -16.59769833,\n",
       "        -15.81548   , -15.03326167, -14.25104333, -13.468825  ,\n",
       "        -12.68660667, -11.90438833, -11.12217   , -10.33995167,\n",
       "         -9.55773333,  -8.775515  ,  -7.99329667,  -7.21107833,\n",
       "         -6.42886   ,  -5.64664167,  -4.86442333,  -4.082205  ,\n",
       "         -3.29998667,  -2.51776833,  -1.73555   ,  -0.95333167,\n",
       "         -0.17111333,   0.611105  ,   1.39332333,   2.17554167,\n",
       "          2.95776   ,   3.73997833,   4.52219667,   5.304415  ,\n",
       "          6.08663333,   6.86885167,   7.65107   ,   8.43328833,\n",
       "          9.21550667,   9.997725  ,  10.77994333,  11.56216167,\n",
       "         12.34438   ,  13.12659833,  13.90881667,  14.691035  ,\n",
       "         15.47325333,  16.25547167,  17.03769   ,  17.81990833,\n",
       "         18.60212667,  19.384345  ,  20.16656333,  20.94878167,\n",
       "         21.731     ]))"
      ]
     },
     "execution_count": 14,
     "metadata": {},
     "output_type": "execute_result"
    }
   ],
   "source": [
    "a=np.array(datos[\"vx\"])\n",
    "print(a)\n",
    "np.histogram(datos[\"vx\"], bins=60, range=None, normed=None, weights=None, density=None)"
   ]
  },
  {
   "cell_type": "code",
   "execution_count": 15,
   "metadata": {},
   "outputs": [],
   "source": [
    "x = np.histogram(datos[\"vx\"], bins=60, range=None, normed=None, weights=None, density=None)"
   ]
  },
  {
   "cell_type": "code",
   "execution_count": 16,
   "metadata": {},
   "outputs": [
    {
     "data": {
      "text/plain": [
       "-25.2021"
      ]
     },
     "execution_count": 16,
     "metadata": {},
     "output_type": "execute_result"
    }
   ],
   "source": [
    "min(datos[\"vx\"])"
   ]
  },
  {
   "cell_type": "code",
   "execution_count": 35,
   "metadata": {},
   "outputs": [
    {
     "name": "stdout",
     "output_type": "stream",
     "text": [
      "[-25.2021     -24.41988167 -23.63766333 -22.855445   -22.07322667\n",
      " -21.29100833 -20.50879    -19.72657167 -18.94435333 -18.162135\n",
      " -17.37991667 -16.59769833 -15.81548    -15.03326167 -14.25104333\n",
      " -13.468825   -12.68660667 -11.90438833 -11.12217    -10.33995167\n",
      "  -9.55773333  -8.775515    -7.99329667  -7.21107833  -6.42886\n",
      "  -5.64664167  -4.86442333  -4.082205    -3.29998667  -2.51776833\n",
      "  -1.73555     -0.95333167  -0.17111333   0.611105     1.39332333\n",
      "   2.17554167   2.95776      3.73997833   4.52219667   5.304415\n",
      "   6.08663333   6.86885167   7.65107      8.43328833   9.21550667\n",
      "   9.997725    10.77994333  11.56216167  12.34438     13.12659833\n",
      "  13.90881667  14.691035    15.47325333  16.25547167  17.03769\n",
      "  17.81990833  18.60212667  19.384345    20.16656333  20.94878167\n",
      "  21.731     ]\n",
      "[  1   2   0   0   1   6   2  17   5  18  11  46  43  50  61  72  67  80\n",
      " 140 140 168 209 229 196 258 270 269 361 244 359 386 428 417 333 333 278\n",
      " 325 331 242 310 246 181 230 125 140 151  92  74  67  59  64  44  39  33\n",
      "  36  12   6  14   3   1   1]\n"
     ]
    }
   ],
   "source": [
    "x2 = x[0]\n",
    "x1 = x[1]\n",
    "x2 = np.append(x2, [1], 0)\n",
    "print(x1)\n",
    "print(x2)"
   ]
  },
  {
   "cell_type": "code",
   "execution_count": 46,
   "metadata": {},
   "outputs": [
    {
     "name": "stdout",
     "output_type": "stream",
     "text": [
      "[362.7152999   -0.47626891   2.5277611 ]\n"
     ]
    },
    {
     "data": {
      "text/plain": [
       "Text(0, 0.5, 'Frequency')"
      ]
     },
     "execution_count": 46,
     "metadata": {},
     "output_type": "execute_result"
    },
    {
     "data": {
      "image/png": "[encoded data removed]",
      "text/plain": [
       "<Figure size 360x216 with 1 Axes>"
      ]
     },
     "metadata": {
      "needs_background": "light"
     },
     "output_type": "display_data"
    },
    {
     "data": {
      "image/png": "[encoded data removed]",
      "text/plain": [
       "<Figure size 360x216 with 1 Axes>"
      ]
     },
     "metadata": {
      "needs_background": "light"
     },
     "output_type": "display_data"
    }
   ],
   "source": [
    "fig = plt.figure(figsize=(5,3))\n",
    "\n",
    "axes = fig.add_axes([0.1, 0.1, 0.8, 0.8])\n",
    "    \n",
    "axes.plot(x1, x2, \"r\")\n",
    "\n",
    "axes.set_title(\"\")\n",
    "axes.set_xlabel(\"x\")\n",
    "axes.set_ylabel(\"Frequency\") #plt(x,gaussian(x, 1, 1, 1), \"r\")\n",
    "\n",
    "def gaussian(x, amplitude, mean, stddev):\n",
    "    return amplitude * np.exp(-((x - mean) / 4 / stddev)**2)\n",
    "\n",
    "popt, pcov = optimize.curve_fit(gaussian, x1, x2 , [1, -22.5, 1] )\n",
    "\n",
    "print (popt)\n",
    "#print (pcov)\n",
    "\n",
    "fig = plt.figure(figsize=(5,3))\n",
    "\n",
    "axes = fig.add_axes([0.1, 0.1, 0.8, 0.8])\n",
    "    \n",
    "axes.plot(x1, x2, \"r\")\n",
    "axes.plot(x1, gaussian(x1, popt[0], popt[1], popt[2]), \"darkviolet\")\n",
    "\n",
    "axes.set_title(\"\")\n",
    "axes.set_xlabel(\"x\")\n",
    "axes.set_ylabel(\"Frequency\") #plt(x,gaussian(x, 1, 1, 1), \"r\")\n",
    "\n"
   ]
  }
 ],
 "metadata": {
  "kernelspec": {
   "display_name": "Python 3 (ipykernel)",
   "language": "python",
   "name": "python3"
  },
  "language_info": {
   "codemirror_mode": {
    "name": "ipython",
    "version": 3
   },
   "file_extension": ".py",
   "mimetype": "text/x-python",
   "name": "python",
   "nbconvert_exporter": "python",
   "pygments_lexer": "ipython3",
   "version": "3.9.12"
  }
 },
 "nbformat": 4,
 "nbformat_minor": 4
}
